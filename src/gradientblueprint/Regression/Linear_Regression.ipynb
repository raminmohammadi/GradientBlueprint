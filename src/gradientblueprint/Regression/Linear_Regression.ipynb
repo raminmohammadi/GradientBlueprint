{
 "cells": [
  {
   "cell_type": "code",
   "execution_count": 5,
   "id": "26919c83-914a-4bf5-8aef-3fdc423bf2fb",
   "metadata": {
    "is_executing": true
   },
   "outputs": [],
   "source": [
    "import sys\n",
    "# Get the parent directory\n",
    "sys.path.append('../../../AUTOGRAD/')\n",
    "\n",
    "from src.Helpers.DrawGraph import draw_dot\n",
    "from src.Optimizers.optimizer import Optimizer\n",
    "from src.Gradient.Gradient import Variable\n",
    "from src.Regression.Linear_Regression import LinearRegression\n",
    "\n",
    "import math, random\n",
    "import numpy as np\n",
    "import matplotlib.pyplot as plt\n",
    "from dataclasses import dataclass, field\n",
    "%matplotlib inline"
   ]
  },
  {
   "cell_type": "markdown",
   "id": "7d7c324c-53e6-45f6-968f-b0584daaf63b",
   "metadata": {},
   "source": [
    "### Load Data"
   ]
  },
  {
   "cell_type": "code",
   "execution_count": null,
   "id": "ea49554d-bbbd-4b65-a0a1-c4cddc1285c2",
   "metadata": {},
   "outputs": [],
   "source": [
    "import pandas as pd\n",
    "df = pd.read_csv('housing.csv')"
   ]
  },
  {
   "cell_type": "code",
   "execution_count": null,
   "id": "e48f9b7f-a077-480b-a6bf-b5324b184ecc",
   "metadata": {},
   "outputs": [],
   "source": [
    "X = df.drop('24', axis=1).values\n",
    "y = df['24'].values"
   ]
  },
  {
   "cell_type": "markdown",
   "id": "743e485f-5dae-49eb-95dd-66012af22fee",
   "metadata": {},
   "source": [
    "### Normalize Data"
   ]
  },
  {
   "cell_type": "code",
   "execution_count": null,
   "id": "a0afb6ca-613b-47a1-9700-a10fe14dea2a",
   "metadata": {},
   "outputs": [],
   "source": [
    "X = (X - X.mean(axis=0))/X.std(axis=0)"
   ]
  },
  {
   "cell_type": "code",
   "execution_count": null,
   "id": "e205cfb8-a3ab-4415-b53a-5335bd6f140f",
   "metadata": {},
   "outputs": [],
   "source": [
    "Y = y[:, np.newaxis]"
   ]
  },
  {
   "cell_type": "markdown",
   "id": "d811ec9a-f954-4d62-b5cb-084a97c87d9a",
   "metadata": {},
   "source": [
    "### Initialize random w and b"
   ]
  },
  {
   "cell_type": "code",
   "execution_count": null,
   "id": "04ad5889-beff-48b1-bfd7-ccfb51c685eb",
   "metadata": {},
   "outputs": [],
   "source": [
    "w = [Variable(random.uniform(-1, 1), label=f\"W{_}\") for _ in range(13)]\n",
    "b = Variable(random.uniform(-1, 1), label=\"b\")"
   ]
  },
  {
   "cell_type": "code",
   "execution_count": null,
   "id": "83b1189b-8006-4a80-9952-0ba7e8ca8b69",
   "metadata": {},
   "outputs": [],
   "source": [
    "w[0].log()"
   ]
  },
  {
   "cell_type": "markdown",
   "id": "85a217fd-8edf-46fb-8ce1-4d132397d828",
   "metadata": {},
   "source": [
    "# Calculate gradient using the Variable Class"
   ]
  },
  {
   "cell_type": "markdown",
   "id": "d4172cc2-be58-43e6-8229-86643703f95d",
   "metadata": {},
   "source": [
    "### Always set the gradients to 0 at the beginning "
   ]
  },
  {
   "cell_type": "code",
   "execution_count": null,
   "id": "a066c17c-8ccc-4755-bb4c-ac77aef404e0",
   "metadata": {},
   "outputs": [],
   "source": [
    "for parameter in w:\n",
    "    parameter.grad = 0.0\n",
    "    \n",
    "b.grad = 0"
   ]
  },
  {
   "cell_type": "code",
   "execution_count": null,
   "id": "332c1220-cedb-4cb1-b14c-6aba41738d1a",
   "metadata": {},
   "outputs": [],
   "source": [
    "import random\n",
    "import math\n",
    "\n",
    "\n",
    "# Define the weights, inputs, and bias\n",
    "x = X[0]\n",
    "\n",
    "y = Y[0] # Assuming y is a list or an array\n",
    "\n",
    "# Forward pass\n",
    "y_hat = sum((w_i * x_i for w_i, x_i in zip(w, x)), b)\n",
    "\n",
    "# Loss function\n",
    "loss = 0.5 * (y_hat - y) ** 2\n",
    "\n",
    "# Backward pass\n",
    "\n",
    "loss.backward()\n",
    "\n",
    "# Print gradients\n",
    "print(\"Gradients for weights:\")\n",
    "for i, weight in enumerate(w):\n",
    "    print(f\"Gradient for {weight.label}: {weight.grad}\")\n",
    "\n",
    "print(\"Gradient for bias:\")\n",
    "print(f\"Gradient for {b.label}: {b.grad}\")\n"
   ]
  },
  {
   "cell_type": "markdown",
   "id": "ea85564d-0111-489a-ad4e-e7e061eb0676",
   "metadata": {},
   "source": [
    "### Calculate gradient manually to verify"
   ]
  },
  {
   "cell_type": "code",
   "execution_count": null,
   "id": "8e6ec49c-e512-4e61-8b6c-d31022dc1230",
   "metadata": {},
   "outputs": [],
   "source": [
    "for parameter in w:\n",
    "    parameter.grad = 0.0\n",
    "    \n",
    "b.grad = 0"
   ]
  },
  {
   "cell_type": "code",
   "execution_count": null,
   "id": "0a47db08-48fa-45e4-a60b-c43aa49a5698",
   "metadata": {},
   "outputs": [],
   "source": [
    "import numpy as np\n",
    "\n",
    "# Given values\n",
    "x = X[0]\n",
    "y = 21.6\n",
    "\n",
    "weights = np.array([i.data for i in w])\n",
    "\n",
    "bias = b.data\n",
    "\n",
    "# Calculate predicted value\n",
    "h_theta_x = np.dot(weights, x) + bias\n",
    "\n",
    "# Calculate gradients for weights\n",
    "grad_weights = (h_theta_x - y) * x\n",
    "\n",
    "# Calculate gradient for bias\n",
    "grad_bias = h_theta_x - y\n",
    "\n",
    "# Print the gradients\n",
    "print(\"Gradients for weights:\")\n",
    "print(grad_weights)\n",
    "\n",
    "print(\"\\nGradient for bias:\")\n",
    "print(grad_bias)\n"
   ]
  },
  {
   "cell_type": "markdown",
   "id": "54ec3adc-a2fe-4836-bf1c-a77e905a2ab9",
   "metadata": {},
   "source": [
    "### Generate a LR model with Gradient Descent optimizer (SGD or Batch GD)"
   ]
  },
  {
   "cell_type": "code",
   "execution_count": null,
   "id": "51feb3d9-1e0c-4154-890a-88885ba25911",
   "metadata": {
    "scrolled": true,
    "tags": []
   },
   "outputs": [],
   "source": [
    "lr = LinearRegression(input_dim = 13)"
   ]
  },
  {
   "cell_type": "code",
   "execution_count": null,
   "id": "5079106b-5605-412f-9291-97f04741c27d",
   "metadata": {
    "scrolled": true,
    "tags": []
   },
   "outputs": [],
   "source": [
    "lr.fit(X, Y, learning_rate=0.008, batch_size=32, num_epochs = 300, optimizer='SGD')"
   ]
  },
  {
   "cell_type": "code",
   "execution_count": null,
   "id": "aebf180d-f5ea-4603-8973-2b38275e05c3",
   "metadata": {},
   "outputs": [],
   "source": [
    "lr.parameters()"
   ]
  },
  {
   "cell_type": "code",
   "execution_count": null,
   "id": "0aa374f2-9510-4eee-aeb1-a225ef26b317",
   "metadata": {
    "scrolled": true,
    "tags": []
   },
   "outputs": [],
   "source": [
    "# lr.loss.backward()\n",
    "# lr.loss.__draw__()"
   ]
  },
  {
   "cell_type": "code",
   "execution_count": null,
   "id": "09419eee-5734-4cb7-a5fe-c8848590c502",
   "metadata": {},
   "outputs": [],
   "source": [
    "# lr.__draw__(X[0])"
   ]
  },
  {
   "cell_type": "code",
   "execution_count": null,
   "id": "4802d858-0ae9-4c6f-afa1-4d96a7112313",
   "metadata": {},
   "outputs": [],
   "source": [
    "lr = LinearRegression(input_dim = 13)"
   ]
  },
  {
   "cell_type": "code",
   "execution_count": null,
   "id": "ec95a9e1-900b-42d8-b0ed-968002d0358f",
   "metadata": {
    "scrolled": true,
    "tags": []
   },
   "outputs": [],
   "source": [
    "lr.fit(X, Y, learning_rate=0.008, batch_size=32, num_epochs = 1000, optimizer='batch_gradient_descent')"
   ]
  },
  {
   "cell_type": "code",
   "execution_count": null,
   "id": "55fadfda-1125-4257-80b4-afc31adc8b7a",
   "metadata": {
    "scrolled": true,
    "tags": []
   },
   "outputs": [],
   "source": [
    "# lr.__draw__(X[0])"
   ]
  },
  {
   "cell_type": "code",
   "execution_count": null,
   "id": "3754ebca-f404-4146-bc1a-429dfae5a3f3",
   "metadata": {
    "tags": []
   },
   "outputs": [],
   "source": [
    "lr.parameters()"
   ]
  },
  {
   "cell_type": "code",
   "execution_count": null,
   "id": "e6fab7fc-e9ea-4280-810f-cfbac1c40230",
   "metadata": {},
   "outputs": [],
   "source": [
    "from sklearn.linear_model import LinearRegression\n",
    "from sklearn.model_selection import train_test_split\n",
    "from sklearn.metrics import mean_squared_error\n",
    "\n",
    "# Create and fit a linear regression/ model\n",
    "model = LinearRegression()\n",
    "model.fit(X, Y)"
   ]
  },
  {
   "cell_type": "code",
   "execution_count": null,
   "id": "8bd1cb2b-c94d-4923-8fce-fc78cb4f8883",
   "metadata": {},
   "outputs": [],
   "source": [
    "model.coef_"
   ]
  },
  {
   "cell_type": "code",
   "execution_count": null,
   "id": "79524823-db07-405b-a084-a719a2a4e592",
   "metadata": {},
   "outputs": [],
   "source": [
    "lr.__draw__(x)"
   ]
  },
  {
   "cell_type": "code",
   "execution_count": null,
   "id": "43dcb14b-11b0-4ec3-b65e-63417b56f662",
   "metadata": {},
   "outputs": [],
   "source": []
  }
 ],
 "metadata": {
  "kernelspec": {
   "display_name": "Python 3 (ipykernel)",
   "language": "python",
   "name": "python3"
  },
  "language_info": {
   "codemirror_mode": {
    "name": "ipython",
    "version": 3
   },
   "file_extension": ".py",
   "mimetype": "text/x-python",
   "name": "python",
   "nbconvert_exporter": "python",
   "pygments_lexer": "ipython3",
   "version": "3.9.7"
  }
 },
 "nbformat": 4,
 "nbformat_minor": 5
}
