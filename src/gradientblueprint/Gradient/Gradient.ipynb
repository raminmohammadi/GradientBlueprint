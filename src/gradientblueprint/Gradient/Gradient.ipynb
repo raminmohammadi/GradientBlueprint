{
 "cells": [
  {
   "cell_type": "code",
   "execution_count": 1,
   "id": "1e3fbfb2-5592-423f-b572-be404dbab186",
   "metadata": {},
   "outputs": [],
   "source": [
    "import sys\n",
    "# Get the parent directory\n",
    "sys.path.append('../../../GradientBluePrint/')"
   ]
  },
  {
   "cell_type": "code",
   "execution_count": 2,
   "id": "f6b4548a-ffae-4730-9768-50198e40974e",
   "metadata": {
    "is_executing": true
   },
   "outputs": [],
   "source": [
    "from src.Helpers.DrawGraph import draw_dot\n",
    "from src.Gradient.Gradient import Variable\n",
    "import math\n",
    "import numpy as np\n",
    "import matplotlib.pyplot as plt\n",
    "from dataclasses import dataclass, field\n",
    "%matplotlib inline"
   ]
  },
  {
   "cell_type": "markdown",
   "id": "c9d85d1f-983b-4ee7-a6db-3ef7f5fe6e07",
   "metadata": {},
   "source": [
    "### Gradient"
   ]
  },
  {
   "cell_type": "code",
   "execution_count": 3,
   "id": "bf34d72b-bded-4805-bdc7-9bd0223e2bbb",
   "metadata": {},
   "outputs": [
    {
     "name": "stdout",
     "output_type": "stream",
     "text": [
      "\n",
      "What is gradient? \n",
      "\n"
     ]
    }
   ],
   "source": [
    "\"\"\"\n",
    "What is gradient? \n",
    "\"\"\"\n",
    "print(__doc__)"
   ]
  },
  {
   "cell_type": "code",
   "execution_count": 4,
   "id": "3cf9e273-c61a-452a-b15c-a033208c3922",
   "metadata": {},
   "outputs": [],
   "source": [
    "def f(x):\n",
    "    return 3*x**3 - 4*x*2 + 8"
   ]
  },
  {
   "cell_type": "code",
   "execution_count": 5,
   "id": "1dc89399-1a56-4729-9d74-e02f5d544f75",
   "metadata": {},
   "outputs": [
    {
     "data": {
      "text/plain": [
       "[<matplotlib.lines.Line2D at 0x7f4786680310>]"
      ]
     },
     "execution_count": 5,
     "metadata": {},
     "output_type": "execute_result"
    },
    {
     "data": {
      "image/png": "[encoded data removed]",
      "text/plain": [
       "<Figure size 640x480 with 1 Axes>"
      ]
     },
     "metadata": {},
     "output_type": "display_data"
    }
   ],
   "source": [
    "xs = np.arange(-5, 5, 0.25)\n",
    "xy = f(xs)\n",
    "plt.plot(xs, xy)"
   ]
  },
  {
   "cell_type": "markdown",
   "id": "507ffaec-efb4-4842-9ec4-027d62b542bf",
   "metadata": {},
   "source": [
    "### But what is gradient? "
   ]
  },
  {
   "cell_type": "markdown",
   "id": "62e92393-c5f4-4c3c-b603-6edbe79c3ef7",
   "metadata": {},
   "source": [
    "A gradient is a measure of how much a function changes as you change the input. In the context of machine learning, it helps in adjusting the model's parameters to minimize the error (or loss)."
   ]
  },
  {
   "cell_type": "code",
   "execution_count": 6,
   "id": "0aee3af8-b5f3-4d6d-b895-d4c07e8e39b5",
   "metadata": {},
   "outputs": [
    {
     "data": {
      "text/plain": [
       "-8.000000661922968"
      ]
     },
     "execution_count": 6,
     "metadata": {},
     "output_type": "execute_result"
    }
   ],
   "source": [
    "# Generate gradient\n",
    "\n",
    "# Define a small change in the input\n",
    "h = 0.0000000001  # This is a very small number to approximate the derivative\n",
    "\n",
    "# Define the point at which we want to calculate the gradient\n",
    "x = 0\n",
    "\n",
    "# Calculate the gradient using the difference quotient method\n",
    "gradient = (f(x + h) - f(x)) / h  # This approximates the slope (derivative) of the function f at point x\n",
    "\n",
    "# Output the gradient\n",
    "gradient\n"
   ]
  },
  {
   "cell_type": "markdown",
   "id": "689ea7a4-3ae2-43be-af55-0445aec22a3c",
   "metadata": {},
   "source": [
    "### Explanation:\n",
    "\n",
    "__Small Change in Input (h):__\n",
    "\n",
    "We define h as a very small number, 0.0000000001. This small number represents a tiny change in the input x. By using such a small h, we can get a better approximation of the gradient, as smaller values of h yield more accurate results.\n",
    "Point of Interest (x):\n",
    "\n",
    "Here, we want to calculate the gradient at the point x = 0. This point is where we are interested in finding the slope of the function f.\n",
    "Difference Quotient Method:\n",
    "\n",
    "The gradient (or derivative) of the function f at x is approximated using the difference quotient method:\n",
    "\n",
    "```python\n",
    "gradient = (f(x + h) - f(x)) / h\n",
    "```\n",
    "\n",
    "- This formula computes the change in the function f when the input changes slightly by h (i.e., f(x + h) - f(x)). \n",
    "- By dividing this change by h, we normalize it to get the slope or rate of change of the function at the point x.\n"
   ]
  },
  {
   "cell_type": "markdown",
   "id": "b0dfa424-02a6-40fe-a954-acb77515493d",
   "metadata": {},
   "source": [
    "#### Additional Examples"
   ]
  },
  {
   "cell_type": "code",
   "execution_count": 7,
   "id": "6c3b90c7-1696-44b5-9c7d-e263f378facb",
   "metadata": {},
   "outputs": [
    {
     "data": {
      "text/plain": [
       "1.000000082740371"
      ]
     },
     "execution_count": 7,
     "metadata": {},
     "output_type": "execute_result"
    }
   ],
   "source": [
    "# generate gradient\n",
    "h = 0.0000000001\n",
    "x = 1\n",
    "gradient = (f(x + h) - f(x))/h\n",
    "gradient"
   ]
  },
  {
   "cell_type": "code",
   "execution_count": 8,
   "id": "d0db3332-ff5b-4e1f-94b0-1f4fb29ce4c4",
   "metadata": {},
   "outputs": [
    {
     "data": {
      "text/plain": [
       "73.00002380361548"
      ]
     },
     "execution_count": 8,
     "metadata": {},
     "output_type": "execute_result"
    }
   ],
   "source": [
    "# generate gradient\n",
    "h = 0.0000000001\n",
    "x = 3\n",
    "gradient = (f(x + h) - f(x))/h\n",
    "gradient"
   ]
  },
  {
   "cell_type": "code",
   "execution_count": 12,
   "id": "80523367-4a42-43a8-840b-1d002288791f",
   "metadata": {},
   "outputs": [
    {
     "data": {
      "text/plain": [
       "73.00002380361548"
      ]
     },
     "execution_count": 12,
     "metadata": {},
     "output_type": "execute_result"
    }
   ],
   "source": [
    "# generate gradient\n",
    "h = 0.0000000001\n",
    "x = -3\n",
    "gradient = (f(x + h) - f(x))/h\n",
    "gradient"
   ]
  },
  {
   "cell_type": "code",
   "execution_count": 9,
   "id": "ab9a882c-8638-42d2-8e85-c8a103b2e6cc",
   "metadata": {},
   "outputs": [
    {
     "data": {
      "text/plain": [
       "4.0"
      ]
     },
     "execution_count": 9,
     "metadata": {},
     "output_type": "execute_result"
    }
   ],
   "source": [
    "# let's go more complex\n",
    "a = 2.0\n",
    "b = -3.0\n",
    "c = 10.0\n",
    "d = a*b + c\n",
    "d"
   ]
  },
  {
   "cell_type": "code",
   "execution_count": 10,
   "id": "01845dac-4b66-4090-ad21-690f70d72897",
   "metadata": {},
   "outputs": [
    {
     "name": "stdout",
     "output_type": "stream",
     "text": [
      "4.0\n"
     ]
    }
   ],
   "source": [
    "# Define a small change in input\n",
    "h = 0.00001\n",
    "\n",
    "# Reset initial values\n",
    "a = 2.0\n",
    "b = -3.0\n",
    "c = 10.0\n",
    "\n",
    "# Compute d1\n",
    "d1 = a * b + c\n",
    "print(d1)  # Outputs: 4.0"
   ]
  },
  {
   "cell_type": "code",
   "execution_count": 11,
   "id": "4770e8ce-2c1e-4cf8-90cc-896b7dbd89fe",
   "metadata": {},
   "outputs": [
    {
     "name": "stdout",
     "output_type": "stream",
     "text": [
      "3.9999699999999994\n"
     ]
    }
   ],
   "source": [
    "# Apply small change to a\n",
    "a += h  # Now a = 2.00001\n",
    "\n",
    "# Compute d2\n",
    "d2 = a * b + c\n",
    "print(d2)  # Outputs: 3.99997"
   ]
  },
  {
   "cell_type": "code",
   "execution_count": 12,
   "id": "40316aa8-037a-42ac-a47a-bf688fbb1d1a",
   "metadata": {},
   "outputs": [
    {
     "data": {
      "text/plain": [
       "-3.000000000064062"
      ]
     },
     "execution_count": 12,
     "metadata": {},
     "output_type": "execute_result"
    }
   ],
   "source": [
    "# Calculate the gradient\n",
    "gradient = (d2 - d1) / h\n",
    "gradient  # This should give us the derivative of d with respect to a, which is equal to b"
   ]
  },
  {
   "cell_type": "markdown",
   "id": "7b47064e-ca3b-4444-87c6-4b71e8abc02d",
   "metadata": {},
   "source": [
    "#### Explanation:\n",
    "Calculate the Gradient:\n",
    "\n",
    "The gradient is computed using the difference quotient formula:\n",
    "```python\n",
    "gradient = (d2 - d1) / h\n",
    "```\n",
    "Here, d2 is the value of the function d after a small change h is added to a, and d1 is the original value of d.\n",
    "Substitute the Values:\n",
    "\n",
    "From the previous calculations:\n",
    "```python\n",
    "d1 = 4.0\n",
    "d2 = 3.99997\n",
    "h = 0.00001\n",
    "```\n",
    "Plug these values into the formula:\n",
    "```python\n",
    "gradient = (3.99997 - 4.0) / 0.00001\n",
    "gradient = -0.00003 / 0.00001\n",
    "gradient = -3.0\n",
    "```\n",
    "\n",
    "#### Interpretation:\n",
    "\n",
    "The calculated gradient is -3.0. This represents the derivative of d with respect to a.\n",
    "In this case, since d = a * b + c, the derivative of d with respect to a is simply b (because the derivative of a * b with respect to a is b and the derivative of c with respect to a is 0).\n",
    "\n",
    "- Why the Gradient Equals b:\n",
    "\n",
    "Mathematically, if you differentiate d = a * b + c with respect to a, you get:\n",
    "```python\n",
    "∂d/∂a = b\n",
    "```\n",
    "The numerical approximation using the difference quotient should confirm this theoretical result."
   ]
  },
  {
   "cell_type": "code",
   "execution_count": 13,
   "id": "651b07d9-8b8b-42d2-be06-201dc251aa4f",
   "metadata": {},
   "outputs": [
    {
     "name": "stdout",
     "output_type": "stream",
     "text": [
      "4.0\n"
     ]
    }
   ],
   "source": [
    "# Define a small change in input\n",
    "h = 0.00001\n",
    "\n",
    "# Initial values\n",
    "a = 2.0\n",
    "b = -3.0\n",
    "c = 10.0\n",
    "\n",
    "# Compute d1\n",
    "d1 = a * b + c\n",
    "print(d1)  # Outputs: 4.0"
   ]
  },
  {
   "cell_type": "code",
   "execution_count": 14,
   "id": "b9eb6851-14ff-4879-a84e-f3a98be163c9",
   "metadata": {},
   "outputs": [
    {
     "name": "stdout",
     "output_type": "stream",
     "text": [
      "4.00002\n"
     ]
    }
   ],
   "source": [
    "# Apply small change to b\n",
    "b += h  # Now b = -2.99999\n",
    "\n",
    "# Compute d2\n",
    "d2 = a * b + c\n",
    "print(d2)  # Outputs: 4.00002"
   ]
  },
  {
   "cell_type": "code",
   "execution_count": 15,
   "id": "7db23008-f113-4c56-883a-10a07c7c4a78",
   "metadata": {},
   "outputs": [
    {
     "data": {
      "text/plain": [
       "2.0000000000131024"
      ]
     },
     "execution_count": 15,
     "metadata": {},
     "output_type": "execute_result"
    }
   ],
   "source": [
    "# Calculate the gradient\n",
    "gradient = (d2 - d1) / h\n",
    "gradient  # This should give us the derivative of d with respect to b, which is equal to a"
   ]
  },
  {
   "cell_type": "markdown",
   "id": "84303405-4083-4013-8901-c73377a6f408",
   "metadata": {},
   "source": [
    "#### Explanation:\n",
    "Initial Values and Calculation of d1:\n",
    "\n",
    "We start with initial values a = 2.0, b = -3.0, and c = 10.0.\n",
    "We then calculate d1 using the formula:\n",
    "```python\n",
    "d1 = a * b + c\n",
    "```\n",
    "Substituting the values, we get:\n",
    "```python\n",
    "d1 = 2.0 * -3.0 + 10.0\n",
    "d1 = -6.0 + 10.0\n",
    "d1 = 4.0\n",
    "```\n",
    "\n",
    "Small Change in Input (h):\n",
    "\n",
    "We define h as a small number, 0.00001, to introduce a slight change in the input b.\n",
    "Apply Small Change to b:\n",
    "\n",
    "We increment b by h:\n",
    "```python\n",
    "b += h  # Now b = -2.99999\n",
    "```\n",
    "Compute d2:\n",
    "\n",
    "We calculate d2 using the new value of b:\n",
    "```python\n",
    "d2 = a * b + c\n",
    "```\n",
    "Substituting the new value of b, we get:\n",
    "```python\n",
    "d2 = 2.0 * -2.99999 + 10.0\n",
    "d2 = -5.99998 + 10.0\n",
    "d2 = 4.00002\n",
    "```\n",
    "Calculate the Gradient:\n",
    "\n",
    "The gradient is computed using the difference quotient formula:\n",
    "``` python\n",
    "gradient = (d2 - d1) / h\n",
    "```\n",
    "Plug these values into the formula:\n",
    "```python\n",
    "gradient = (4.00002 - 4.0) / 0.00001\n",
    "gradient = 0.00002 / 0.00001\n",
    "gradient = 2.0\n",
    "```\n",
    "#### Interpretation:\n",
    "\n",
    "The calculated gradient is 2.0. This represents the derivative of d with respect to b.\n",
    "In this case, since d = a * b + c, the derivative of d with respect to b is simply a (because the derivative of a * b with respect to b is a and the derivative of c with respect to b is 0).\n",
    "Why the Gradient Equals a:\n",
    "\n",
    "Mathematically, if you differentiate d = a * b + c with respect to b, you get:\n",
    "```python\n",
    "∂d/∂b = a\n",
    "```\n",
    "The numerical approximation using the difference quotient should confirm this theoretical result."
   ]
  },
  {
   "cell_type": "code",
   "execution_count": 22,
   "id": "a4637b6e-419d-42b9-9977-0f9457bfb8ee",
   "metadata": {},
   "outputs": [],
   "source": [
    "h = 0.00001\n",
    "\n",
    "a = 2.0\n",
    "b = -3.0\n",
    "c = 10.0\n",
    "d1 = a*b + c\n",
    "\n",
    "c += h\n",
    "d2 = a*b + c"
   ]
  },
  {
   "cell_type": "code",
   "execution_count": 23,
   "id": "ca40711d-26b6-45af-9c57-7c6540c350cd",
   "metadata": {},
   "outputs": [
    {
     "data": {
      "text/plain": [
       "0.9999999999621422"
      ]
     },
     "execution_count": 23,
     "metadata": {},
     "output_type": "execute_result"
    }
   ],
   "source": [
    "gradient = (d2 - d1) / h\n",
    "gradient # derivation with respect to c which is exact same amount which we added to c ==> 0.00001 / 0.00001 ~ 1"
   ]
  }
 ],
 "metadata": {
  "kernelspec": {
   "display_name": "Python 3 (ipykernel)",
   "language": "python",
   "name": "python3"
  },
  "language_info": {
   "codemirror_mode": {
    "name": "ipython",
    "version": 3
   },
   "file_extension": ".py",
   "mimetype": "text/x-python",
   "name": "python",
   "nbconvert_exporter": "python",
   "pygments_lexer": "ipython3",
   "version": "3.9.7"
  }
 },
 "nbformat": 4,
 "nbformat_minor": 5
}
